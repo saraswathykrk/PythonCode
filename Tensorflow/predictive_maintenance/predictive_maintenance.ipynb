{
 "cells": [
  {
   "cell_type": "markdown",
   "metadata": {},
   "source": [
    "# 1. Load the data"
   ]
  },
  {
   "cell_type": "code",
   "execution_count": 1,
   "metadata": {},
   "outputs": [
    {
     "name": "stderr",
     "output_type": "stream",
     "text": [
      "Using TensorFlow backend.\n",
      "/Users/saraswathy/anaconda3/lib/python3.6/site-packages/requests/__init__.py:80: RequestsDependencyWarning: urllib3 (1.24.1) or chardet (3.0.4) doesn't match a supported version!\n",
      "  RequestsDependencyWarning)\n"
     ]
    }
   ],
   "source": [
    "# Load keras libraries\n",
    "import pandas as pd\n",
    "import numpy as np\n",
    "import keras\n",
    "\n",
    "from sklearn.preprocessing import MinMaxScaler\n",
    "from sklearn.metrics import confusion_matrix, accuracy_score, recall_score, precision_score\n",
    "\n",
    "from keras.models import Sequential\n",
    "from keras.layers import Dense, Dropout, LSTM, Activation\n",
    "from keras.callbacks import EarlyStopping\n",
    "\n",
    "model_path = './Output/LSTM_about_to_fail_model.h5'\n",
    "\n",
    "import matplotlib.pyplot as plt\n",
    "plt.style.use('ggplot')\n",
    "%matplotlib inline"
   ]
  },
  {
   "cell_type": "code",
   "execution_count": 2,
   "metadata": {},
   "outputs": [
    {
     "name": "stdout",
     "output_type": "stream",
     "text": [
      "Shape of Train dataset:  (13538, 5)\n"
     ]
    },
    {
     "data": {
      "text/html": [
       "<div>\n",
       "<style scoped>\n",
       "    .dataframe tbody tr th:only-of-type {\n",
       "        vertical-align: middle;\n",
       "    }\n",
       "\n",
       "    .dataframe tbody tr th {\n",
       "        vertical-align: top;\n",
       "    }\n",
       "\n",
       "    .dataframe thead th {\n",
       "        text-align: right;\n",
       "    }\n",
       "</style>\n",
       "<table border=\"1\" class=\"dataframe\">\n",
       "  <thead>\n",
       "    <tr style=\"text-align: right;\">\n",
       "      <th></th>\n",
       "      <th>cycle</th>\n",
       "      <th>failure</th>\n",
       "      <th>max_life</th>\n",
       "      <th>s1</th>\n",
       "      <th>s2</th>\n",
       "    </tr>\n",
       "  </thead>\n",
       "  <tbody>\n",
       "    <tr>\n",
       "      <th>0</th>\n",
       "      <td>0</td>\n",
       "      <td>0</td>\n",
       "      <td>577</td>\n",
       "      <td>97</td>\n",
       "      <td>1.176117</td>\n",
       "    </tr>\n",
       "    <tr>\n",
       "      <th>1</th>\n",
       "      <td>1</td>\n",
       "      <td>0</td>\n",
       "      <td>577</td>\n",
       "      <td>65</td>\n",
       "      <td>0.000723</td>\n",
       "    </tr>\n",
       "    <tr>\n",
       "      <th>2</th>\n",
       "      <td>2</td>\n",
       "      <td>0</td>\n",
       "      <td>577</td>\n",
       "      <td>4</td>\n",
       "      <td>0.921732</td>\n",
       "    </tr>\n",
       "    <tr>\n",
       "      <th>3</th>\n",
       "      <td>3</td>\n",
       "      <td>0</td>\n",
       "      <td>577</td>\n",
       "      <td>95</td>\n",
       "      <td>0.177239</td>\n",
       "    </tr>\n",
       "    <tr>\n",
       "      <th>4</th>\n",
       "      <td>4</td>\n",
       "      <td>0</td>\n",
       "      <td>577</td>\n",
       "      <td>20</td>\n",
       "      <td>3.626983</td>\n",
       "    </tr>\n",
       "  </tbody>\n",
       "</table>\n",
       "</div>"
      ],
      "text/plain": [
       "   cycle  failure  max_life  s1        s2\n",
       "0      0        0       577  97  1.176117\n",
       "1      1        0       577  65  0.000723\n",
       "2      2        0       577   4  0.921732\n",
       "3      3        0       577  95  0.177239\n",
       "4      4        0       577  20  3.626983"
      ]
     },
     "execution_count": 2,
     "metadata": {},
     "output_type": "execute_result"
    }
   ],
   "source": [
    "# Load training data\n",
    "df_train=pd.read_json('./Dataset/PM_logsynth_train.json', lines=True)\n",
    "print('Shape of Train dataset: ',df_train.shape)\n",
    "df_train.head(5)"
   ]
  },
  {
   "cell_type": "markdown",
   "metadata": {},
   "source": [
    "# 3. Add labels for RUL and About_To_Fail"
   ]
  },
  {
   "cell_type": "code",
   "execution_count": 3,
   "metadata": {},
   "outputs": [
    {
     "data": {
      "text/html": [
       "<div>\n",
       "<style scoped>\n",
       "    .dataframe tbody tr th:only-of-type {\n",
       "        vertical-align: middle;\n",
       "    }\n",
       "\n",
       "    .dataframe tbody tr th {\n",
       "        vertical-align: top;\n",
       "    }\n",
       "\n",
       "    .dataframe thead th {\n",
       "        text-align: right;\n",
       "    }\n",
       "</style>\n",
       "<table border=\"1\" class=\"dataframe\">\n",
       "  <thead>\n",
       "    <tr style=\"text-align: right;\">\n",
       "      <th></th>\n",
       "      <th>cycle</th>\n",
       "      <th>failure</th>\n",
       "      <th>max_life</th>\n",
       "      <th>s1</th>\n",
       "      <th>s2</th>\n",
       "      <th>rul</th>\n",
       "    </tr>\n",
       "  </thead>\n",
       "  <tbody>\n",
       "    <tr>\n",
       "      <th>0</th>\n",
       "      <td>0</td>\n",
       "      <td>0</td>\n",
       "      <td>577</td>\n",
       "      <td>97</td>\n",
       "      <td>1.176117</td>\n",
       "      <td>577</td>\n",
       "    </tr>\n",
       "    <tr>\n",
       "      <th>1</th>\n",
       "      <td>1</td>\n",
       "      <td>0</td>\n",
       "      <td>577</td>\n",
       "      <td>65</td>\n",
       "      <td>0.000723</td>\n",
       "      <td>576</td>\n",
       "    </tr>\n",
       "    <tr>\n",
       "      <th>2</th>\n",
       "      <td>2</td>\n",
       "      <td>0</td>\n",
       "      <td>577</td>\n",
       "      <td>4</td>\n",
       "      <td>0.921732</td>\n",
       "      <td>575</td>\n",
       "    </tr>\n",
       "    <tr>\n",
       "      <th>3</th>\n",
       "      <td>3</td>\n",
       "      <td>0</td>\n",
       "      <td>577</td>\n",
       "      <td>95</td>\n",
       "      <td>0.177239</td>\n",
       "      <td>574</td>\n",
       "    </tr>\n",
       "    <tr>\n",
       "      <th>4</th>\n",
       "      <td>4</td>\n",
       "      <td>0</td>\n",
       "      <td>577</td>\n",
       "      <td>20</td>\n",
       "      <td>3.626983</td>\n",
       "      <td>573</td>\n",
       "    </tr>\n",
       "    <tr>\n",
       "      <th>5</th>\n",
       "      <td>5</td>\n",
       "      <td>0</td>\n",
       "      <td>577</td>\n",
       "      <td>36</td>\n",
       "      <td>0.253401</td>\n",
       "      <td>572</td>\n",
       "    </tr>\n",
       "    <tr>\n",
       "      <th>6</th>\n",
       "      <td>6</td>\n",
       "      <td>0</td>\n",
       "      <td>577</td>\n",
       "      <td>57</td>\n",
       "      <td>0.502924</td>\n",
       "      <td>571</td>\n",
       "    </tr>\n",
       "    <tr>\n",
       "      <th>7</th>\n",
       "      <td>7</td>\n",
       "      <td>0</td>\n",
       "      <td>577</td>\n",
       "      <td>51</td>\n",
       "      <td>0.186604</td>\n",
       "      <td>570</td>\n",
       "    </tr>\n",
       "    <tr>\n",
       "      <th>8</th>\n",
       "      <td>8</td>\n",
       "      <td>0</td>\n",
       "      <td>577</td>\n",
       "      <td>17</td>\n",
       "      <td>0.034710</td>\n",
       "      <td>569</td>\n",
       "    </tr>\n",
       "    <tr>\n",
       "      <th>9</th>\n",
       "      <td>9</td>\n",
       "      <td>0</td>\n",
       "      <td>577</td>\n",
       "      <td>83</td>\n",
       "      <td>0.011411</td>\n",
       "      <td>568</td>\n",
       "    </tr>\n",
       "  </tbody>\n",
       "</table>\n",
       "</div>"
      ],
      "text/plain": [
       "   cycle  failure  max_life  s1        s2  rul\n",
       "0      0        0       577  97  1.176117  577\n",
       "1      1        0       577  65  0.000723  576\n",
       "2      2        0       577   4  0.921732  575\n",
       "3      3        0       577  95  0.177239  574\n",
       "4      4        0       577  20  3.626983  573\n",
       "5      5        0       577  36  0.253401  572\n",
       "6      6        0       577  57  0.502924  571\n",
       "7      7        0       577  51  0.186604  570\n",
       "8      8        0       577  17  0.034710  569\n",
       "9      9        0       577  83  0.011411  568"
      ]
     },
     "execution_count": 3,
     "metadata": {},
     "output_type": "execute_result"
    }
   ],
   "source": [
    "# generate label columns for training data\n",
    "df_train['rul']=df_train['max_life'] - df_train['cycle']\n",
    "df_train.head(10)"
   ]
  },
  {
   "cell_type": "code",
   "execution_count": 4,
   "metadata": {},
   "outputs": [
    {
     "data": {
      "text/html": [
       "<div>\n",
       "<style scoped>\n",
       "    .dataframe tbody tr th:only-of-type {\n",
       "        vertical-align: middle;\n",
       "    }\n",
       "\n",
       "    .dataframe tbody tr th {\n",
       "        vertical-align: top;\n",
       "    }\n",
       "\n",
       "    .dataframe thead th {\n",
       "        text-align: right;\n",
       "    }\n",
       "</style>\n",
       "<table border=\"1\" class=\"dataframe\">\n",
       "  <thead>\n",
       "    <tr style=\"text-align: right;\">\n",
       "      <th></th>\n",
       "      <th>cycle</th>\n",
       "      <th>failure</th>\n",
       "      <th>max_life</th>\n",
       "      <th>s1</th>\n",
       "      <th>s2</th>\n",
       "      <th>rul</th>\n",
       "      <th>about_to_fail</th>\n",
       "    </tr>\n",
       "  </thead>\n",
       "  <tbody>\n",
       "    <tr>\n",
       "      <th>574</th>\n",
       "      <td>574</td>\n",
       "      <td>0</td>\n",
       "      <td>577</td>\n",
       "      <td>558</td>\n",
       "      <td>0.782795</td>\n",
       "      <td>3</td>\n",
       "      <td>1</td>\n",
       "    </tr>\n",
       "    <tr>\n",
       "      <th>575</th>\n",
       "      <td>575</td>\n",
       "      <td>0</td>\n",
       "      <td>577</td>\n",
       "      <td>664</td>\n",
       "      <td>0.920564</td>\n",
       "      <td>2</td>\n",
       "      <td>1</td>\n",
       "    </tr>\n",
       "    <tr>\n",
       "      <th>576</th>\n",
       "      <td>576</td>\n",
       "      <td>0</td>\n",
       "      <td>577</td>\n",
       "      <td>744</td>\n",
       "      <td>1.157950</td>\n",
       "      <td>1</td>\n",
       "      <td>1</td>\n",
       "    </tr>\n",
       "    <tr>\n",
       "      <th>577</th>\n",
       "      <td>577</td>\n",
       "      <td>1</td>\n",
       "      <td>577</td>\n",
       "      <td>971</td>\n",
       "      <td>1.111066</td>\n",
       "      <td>0</td>\n",
       "      <td>1</td>\n",
       "    </tr>\n",
       "    <tr>\n",
       "      <th>578</th>\n",
       "      <td>578</td>\n",
       "      <td>1</td>\n",
       "      <td>577</td>\n",
       "      <td>912</td>\n",
       "      <td>0.727394</td>\n",
       "      <td>-1</td>\n",
       "      <td>1</td>\n",
       "    </tr>\n",
       "    <tr>\n",
       "      <th>579</th>\n",
       "      <td>579</td>\n",
       "      <td>1</td>\n",
       "      <td>577</td>\n",
       "      <td>740</td>\n",
       "      <td>1.056534</td>\n",
       "      <td>-2</td>\n",
       "      <td>1</td>\n",
       "    </tr>\n",
       "  </tbody>\n",
       "</table>\n",
       "</div>"
      ],
      "text/plain": [
       "     cycle  failure  max_life   s1        s2  rul  about_to_fail\n",
       "574    574        0       577  558  0.782795    3              1\n",
       "575    575        0       577  664  0.920564    2              1\n",
       "576    576        0       577  744  1.157950    1              1\n",
       "577    577        1       577  971  1.111066    0              1\n",
       "578    578        1       577  912  0.727394   -1              1\n",
       "579    579        1       577  740  1.056534   -2              1"
      ]
     },
     "execution_count": 4,
     "metadata": {},
     "output_type": "execute_result"
    }
   ],
   "source": [
    "# We will make use of \"about_to_fail\" for binary classification, while trying to answer the question: is a specific \n",
    "# engine going to fail within w1 cycles?\n",
    "w1=50\n",
    "about_to_fail_window=w1\n",
    "df_train['about_to_fail'] = np.where(df_train['rul'] <= w1, 1, 0 )\n",
    "df_train.head(df_train['max_life'][0]+3).tail(6)\n",
    "#df_train['about_to_fail'] = df_train['rul'].apply(lambda x: 1 if x <= about_to_fail_window else 0)\n",
    "#df_train.head(df_train['max_life'][0]+3).tail(6)"
   ]
  },
  {
   "cell_type": "code",
   "execution_count": 5,
   "metadata": {},
   "outputs": [],
   "source": [
    "df_test=pd.read_json('./Dataset/PM_logsynth_test1.json', lines=True)\n",
    "df_test['rul']=df_test['max_life'] - df_test['cycle']\n",
    "df_test['about_to_fail'] = df_test['rul'].apply(lambda x: 1 if x <= about_to_fail_window else 0)"
   ]
  },
  {
   "cell_type": "code",
   "execution_count": 6,
   "metadata": {},
   "outputs": [],
   "source": [
    "features_cols=['cycle','s1','s2','about_to_fail']\n",
    "# target_col_name='about_to_fail'"
   ]
  },
  {
   "cell_type": "markdown",
   "metadata": {},
   "source": [
    "# 4. Feature Scaling"
   ]
  },
  {
   "cell_type": "code",
   "execution_count": 7,
   "metadata": {},
   "outputs": [
    {
     "data": {
      "text/plain": [
       "Index(['failure', 'max_life', 'rul'], dtype='object')"
      ]
     },
     "execution_count": 7,
     "metadata": {},
     "output_type": "execute_result"
    }
   ],
   "source": [
    "df_train.columns.difference(features_cols)"
   ]
  },
  {
   "cell_type": "code",
   "execution_count": 8,
   "metadata": {},
   "outputs": [],
   "source": [
    "min_max_scaler=MinMaxScaler()\n",
    "cols_normalize = df_train.columns.difference(features_cols)\n",
    "norm_train_df = pd.DataFrame(min_max_scaler.fit_transform(df_train[cols_normalize]), \n",
    "                             columns=cols_normalize, \n",
    "                             index=df_train.index)\n",
    "join_df = df_train[df_train.columns.difference(cols_normalize)].join(norm_train_df)\n",
    "df_train = join_df.reindex(columns = df_train.columns)"
   ]
  },
  {
   "cell_type": "code",
   "execution_count": 9,
   "metadata": {},
   "outputs": [],
   "source": [
    "cols_normalize = df_test.columns.difference(features_cols)\n",
    "norm_test_df = pd.DataFrame(min_max_scaler.fit_transform(df_test[cols_normalize]), \n",
    "                             columns=cols_normalize, \n",
    "                             index=df_test.index)\n",
    "join_df = df_test[df_test.columns.difference(cols_normalize)].join(norm_test_df)\n",
    "df_test = join_df.reindex(columns = df_test.columns)\n",
    "\n",
    "# df_train[features_col_name]=min_max_scaler.fit_transform(df_train[features_col_name])\n",
    "# df_test[features_col_name]=min_max_scaler.transform(df_test[features_col_name])"
   ]
  },
  {
   "cell_type": "code",
   "execution_count": 10,
   "metadata": {},
   "outputs": [
    {
     "data": {
      "text/html": [
       "<div>\n",
       "<style scoped>\n",
       "    .dataframe tbody tr th:only-of-type {\n",
       "        vertical-align: middle;\n",
       "    }\n",
       "\n",
       "    .dataframe tbody tr th {\n",
       "        vertical-align: top;\n",
       "    }\n",
       "\n",
       "    .dataframe thead th {\n",
       "        text-align: right;\n",
       "    }\n",
       "</style>\n",
       "<table border=\"1\" class=\"dataframe\">\n",
       "  <thead>\n",
       "    <tr style=\"text-align: right;\">\n",
       "      <th></th>\n",
       "      <th>cycle</th>\n",
       "      <th>failure</th>\n",
       "      <th>max_life</th>\n",
       "      <th>s1</th>\n",
       "      <th>s2</th>\n",
       "      <th>rul</th>\n",
       "      <th>about_to_fail</th>\n",
       "    </tr>\n",
       "  </thead>\n",
       "  <tbody>\n",
       "    <tr>\n",
       "      <th>0</th>\n",
       "      <td>0</td>\n",
       "      <td>0.0</td>\n",
       "      <td>0.252632</td>\n",
       "      <td>97</td>\n",
       "      <td>1.176117</td>\n",
       "      <td>0.899291</td>\n",
       "      <td>0</td>\n",
       "    </tr>\n",
       "    <tr>\n",
       "      <th>1</th>\n",
       "      <td>1</td>\n",
       "      <td>0.0</td>\n",
       "      <td>0.252632</td>\n",
       "      <td>65</td>\n",
       "      <td>0.000723</td>\n",
       "      <td>0.897872</td>\n",
       "      <td>0</td>\n",
       "    </tr>\n",
       "    <tr>\n",
       "      <th>2</th>\n",
       "      <td>2</td>\n",
       "      <td>0.0</td>\n",
       "      <td>0.252632</td>\n",
       "      <td>4</td>\n",
       "      <td>0.921732</td>\n",
       "      <td>0.896454</td>\n",
       "      <td>0</td>\n",
       "    </tr>\n",
       "    <tr>\n",
       "      <th>3</th>\n",
       "      <td>3</td>\n",
       "      <td>0.0</td>\n",
       "      <td>0.252632</td>\n",
       "      <td>95</td>\n",
       "      <td>0.177239</td>\n",
       "      <td>0.895035</td>\n",
       "      <td>0</td>\n",
       "    </tr>\n",
       "    <tr>\n",
       "      <th>4</th>\n",
       "      <td>4</td>\n",
       "      <td>0.0</td>\n",
       "      <td>0.252632</td>\n",
       "      <td>20</td>\n",
       "      <td>3.626983</td>\n",
       "      <td>0.893617</td>\n",
       "      <td>0</td>\n",
       "    </tr>\n",
       "  </tbody>\n",
       "</table>\n",
       "</div>"
      ],
      "text/plain": [
       "   cycle  failure  max_life  s1        s2       rul  about_to_fail\n",
       "0      0      0.0  0.252632  97  1.176117  0.899291              0\n",
       "1      1      0.0  0.252632  65  0.000723  0.897872              0\n",
       "2      2      0.0  0.252632   4  0.921732  0.896454              0\n",
       "3      3      0.0  0.252632  95  0.177239  0.895035              0\n",
       "4      4      0.0  0.252632  20  3.626983  0.893617              0"
      ]
     },
     "execution_count": 10,
     "metadata": {},
     "output_type": "execute_result"
    }
   ],
   "source": [
    "df_train.head()"
   ]
  },
  {
   "cell_type": "code",
   "execution_count": 11,
   "metadata": {},
   "outputs": [
    {
     "data": {
      "text/html": [
       "<div>\n",
       "<style scoped>\n",
       "    .dataframe tbody tr th:only-of-type {\n",
       "        vertical-align: middle;\n",
       "    }\n",
       "\n",
       "    .dataframe tbody tr th {\n",
       "        vertical-align: top;\n",
       "    }\n",
       "\n",
       "    .dataframe thead th {\n",
       "        text-align: right;\n",
       "    }\n",
       "</style>\n",
       "<table border=\"1\" class=\"dataframe\">\n",
       "  <thead>\n",
       "    <tr style=\"text-align: right;\">\n",
       "      <th></th>\n",
       "      <th>cycle</th>\n",
       "      <th>failure</th>\n",
       "      <th>max_life</th>\n",
       "      <th>s1</th>\n",
       "      <th>s2</th>\n",
       "      <th>rul</th>\n",
       "      <th>about_to_fail</th>\n",
       "    </tr>\n",
       "  </thead>\n",
       "  <tbody>\n",
       "    <tr>\n",
       "      <th>0</th>\n",
       "      <td>0</td>\n",
       "      <td>0.0</td>\n",
       "      <td>0.0</td>\n",
       "      <td>88</td>\n",
       "      <td>1.012152</td>\n",
       "      <td>1.000000</td>\n",
       "      <td>0</td>\n",
       "    </tr>\n",
       "    <tr>\n",
       "      <th>1</th>\n",
       "      <td>1</td>\n",
       "      <td>0.0</td>\n",
       "      <td>0.0</td>\n",
       "      <td>94</td>\n",
       "      <td>0.425117</td>\n",
       "      <td>0.998331</td>\n",
       "      <td>0</td>\n",
       "    </tr>\n",
       "    <tr>\n",
       "      <th>2</th>\n",
       "      <td>2</td>\n",
       "      <td>0.0</td>\n",
       "      <td>0.0</td>\n",
       "      <td>12</td>\n",
       "      <td>0.071812</td>\n",
       "      <td>0.996661</td>\n",
       "      <td>0</td>\n",
       "    </tr>\n",
       "    <tr>\n",
       "      <th>3</th>\n",
       "      <td>3</td>\n",
       "      <td>0.0</td>\n",
       "      <td>0.0</td>\n",
       "      <td>72</td>\n",
       "      <td>0.008297</td>\n",
       "      <td>0.994992</td>\n",
       "      <td>0</td>\n",
       "    </tr>\n",
       "    <tr>\n",
       "      <th>4</th>\n",
       "      <td>4</td>\n",
       "      <td>0.0</td>\n",
       "      <td>0.0</td>\n",
       "      <td>58</td>\n",
       "      <td>4.495535</td>\n",
       "      <td>0.993322</td>\n",
       "      <td>0</td>\n",
       "    </tr>\n",
       "  </tbody>\n",
       "</table>\n",
       "</div>"
      ],
      "text/plain": [
       "   cycle  failure  max_life  s1        s2       rul  about_to_fail\n",
       "0      0      0.0       0.0  88  1.012152  1.000000              0\n",
       "1      1      0.0       0.0  94  0.425117  0.998331              0\n",
       "2      2      0.0       0.0  12  0.071812  0.996661              0\n",
       "3      3      0.0       0.0  72  0.008297  0.994992              0\n",
       "4      4      0.0       0.0  58  4.495535  0.993322              0"
      ]
     },
     "execution_count": 11,
     "metadata": {},
     "output_type": "execute_result"
    }
   ],
   "source": [
    "df_test.head()"
   ]
  },
  {
   "cell_type": "code",
   "execution_count": 12,
   "metadata": {},
   "outputs": [],
   "source": [
    "#Function to split the original time-series into sequences of length seq_length.\n",
    "def gen_sequence(id_df, seq_length, seq_cols):\n",
    "    df_zeros=pd.DataFrame(np.zeros((seq_length-1,id_df.shape[1])),columns=id_df.columns)\n",
    "    id_df=df_zeros.append(id_df,ignore_index=True)\n",
    "    data_array = id_df[seq_cols].values\n",
    "    num_elements = data_array.shape[0]\n",
    "    lstm_array=[]\n",
    "    for start, stop in zip(range(0, num_elements-seq_length), range(seq_length, num_elements)):\n",
    "        lstm_array.append(data_array[start:stop, :])\n",
    "    return np.array(lstm_array)"
   ]
  },
  {
   "cell_type": "code",
   "execution_count": 13,
   "metadata": {},
   "outputs": [],
   "source": [
    "# function to generate labels\n",
    "def gen_label(id_df, seq_length, seq_cols, label):\n",
    "    df_zeros=pd.DataFrame(np.zeros((seq_length-1,id_df.shape[1])),columns=id_df.columns)\n",
    "    id_df=df_zeros.append(id_df,ignore_index=True)\n",
    "    data_array = id_df[seq_cols].values\n",
    "    num_elements = data_array.shape[0]\n",
    "    y_label=[]\n",
    "    for start, stop in zip(range(0, num_elements-seq_length), range(seq_length, num_elements)):\n",
    "        y_label.append(id_df[label][stop])\n",
    "    return np.array(y_label)"
   ]
  },
  {
   "cell_type": "code",
   "execution_count": 14,
   "metadata": {},
   "outputs": [
    {
     "data": {
      "text/html": [
       "<div>\n",
       "<style scoped>\n",
       "    .dataframe tbody tr th:only-of-type {\n",
       "        vertical-align: middle;\n",
       "    }\n",
       "\n",
       "    .dataframe tbody tr th {\n",
       "        vertical-align: top;\n",
       "    }\n",
       "\n",
       "    .dataframe thead th {\n",
       "        text-align: right;\n",
       "    }\n",
       "</style>\n",
       "<table border=\"1\" class=\"dataframe\">\n",
       "  <thead>\n",
       "    <tr style=\"text-align: right;\">\n",
       "      <th></th>\n",
       "      <th>cycle</th>\n",
       "      <th>failure</th>\n",
       "      <th>max_life</th>\n",
       "      <th>s1</th>\n",
       "      <th>s2</th>\n",
       "      <th>rul</th>\n",
       "      <th>about_to_fail</th>\n",
       "    </tr>\n",
       "  </thead>\n",
       "  <tbody>\n",
       "    <tr>\n",
       "      <th>0</th>\n",
       "      <td>0</td>\n",
       "      <td>0.0</td>\n",
       "      <td>0.252632</td>\n",
       "      <td>97</td>\n",
       "      <td>1.176117</td>\n",
       "      <td>0.899291</td>\n",
       "      <td>0</td>\n",
       "    </tr>\n",
       "    <tr>\n",
       "      <th>1</th>\n",
       "      <td>1</td>\n",
       "      <td>0.0</td>\n",
       "      <td>0.252632</td>\n",
       "      <td>65</td>\n",
       "      <td>0.000723</td>\n",
       "      <td>0.897872</td>\n",
       "      <td>0</td>\n",
       "    </tr>\n",
       "    <tr>\n",
       "      <th>2</th>\n",
       "      <td>2</td>\n",
       "      <td>0.0</td>\n",
       "      <td>0.252632</td>\n",
       "      <td>4</td>\n",
       "      <td>0.921732</td>\n",
       "      <td>0.896454</td>\n",
       "      <td>0</td>\n",
       "    </tr>\n",
       "    <tr>\n",
       "      <th>3</th>\n",
       "      <td>3</td>\n",
       "      <td>0.0</td>\n",
       "      <td>0.252632</td>\n",
       "      <td>95</td>\n",
       "      <td>0.177239</td>\n",
       "      <td>0.895035</td>\n",
       "      <td>0</td>\n",
       "    </tr>\n",
       "    <tr>\n",
       "      <th>4</th>\n",
       "      <td>4</td>\n",
       "      <td>0.0</td>\n",
       "      <td>0.252632</td>\n",
       "      <td>20</td>\n",
       "      <td>3.626983</td>\n",
       "      <td>0.893617</td>\n",
       "      <td>0</td>\n",
       "    </tr>\n",
       "  </tbody>\n",
       "</table>\n",
       "</div>"
      ],
      "text/plain": [
       "   cycle  failure  max_life  s1        s2       rul  about_to_fail\n",
       "0      0      0.0  0.252632  97  1.176117  0.899291              0\n",
       "1      1      0.0  0.252632  65  0.000723  0.897872              0\n",
       "2      2      0.0  0.252632   4  0.921732  0.896454              0\n",
       "3      3      0.0  0.252632  95  0.177239  0.895035              0\n",
       "4      4      0.0  0.252632  20  3.626983  0.893617              0"
      ]
     },
     "execution_count": 14,
     "metadata": {},
     "output_type": "execute_result"
    }
   ],
   "source": [
    "# split the training data into sub-sequences of length seq_length\n",
    "seq_length=100\n",
    "seq_cols=features_cols=['cycle','s1','s2']\n",
    "df_train.head(5)"
   ]
  },
  {
   "cell_type": "markdown",
   "metadata": {},
   "source": [
    "# Reformat training data and test data into the [samples, time steps, features] format."
   ]
  },
  {
   "cell_type": "code",
   "execution_count": 15,
   "metadata": {},
   "outputs": [
    {
     "name": "stdout",
     "output_type": "stream",
     "text": [
      "(13537, 100, 3)\n",
      "   cycle  failure  max_life  s1        s2       rul  about_to_fail\n",
      "0      0      0.0  0.252632  97  1.176117  0.899291              0\n",
      "1      1      0.0  0.252632  65  0.000723  0.897872              0\n",
      "2      2      0.0  0.252632   4  0.921732  0.896454              0\n",
      "3      3      0.0  0.252632  95  0.177239  0.895035              0\n",
      "4      4      0.0  0.252632  20  3.626983  0.893617              0\n",
      "5      5      0.0  0.252632  36  0.253401  0.892199              0\n",
      "6      6      0.0  0.252632  57  0.502924  0.890780              0\n",
      "7      7      0.0  0.252632  51  0.186604  0.889362              0\n",
      "8      8      0.0  0.252632  17  0.034710  0.887943              0\n",
      "9      9      0.0  0.252632  83  0.011411  0.886525              0\n",
      "     cycle  failure  max_life  s1        s2       rul  about_to_fail\n",
      "96      96      0.0  0.252632  75  1.122721  0.763121              0\n",
      "97      97      0.0  0.252632  62  0.780835  0.761702              0\n",
      "98      98      0.0  0.252632  93  0.735256  0.760284              0\n",
      "99      99      0.0  0.252632  87  0.958366  0.758865              0\n",
      "100    100      0.0  0.252632  59  3.078912  0.757447              0\n",
      "101    101      0.0  0.252632  67  5.409597  0.756028              0\n",
      "102    102      0.0  0.252632  80  0.000025  0.754610              0\n",
      "103    103      0.0  0.252632   4  1.053582  0.753191              0\n",
      "104    104      0.0  0.252632  76  0.004319  0.751773              0\n",
      "[[[0.00000000e+00 0.00000000e+00 0.00000000e+00]\n",
      "  [0.00000000e+00 0.00000000e+00 0.00000000e+00]\n",
      "  [0.00000000e+00 0.00000000e+00 0.00000000e+00]\n",
      "  ...\n",
      "  [9.40000000e+01 6.50000000e+01 7.69690081e-03]\n",
      "  [9.50000000e+01 7.50000000e+01 1.38047767e-02]\n",
      "  [9.60000000e+01 7.50000000e+01 1.12272056e+00]]\n",
      "\n",
      " [[0.00000000e+00 0.00000000e+00 0.00000000e+00]\n",
      "  [0.00000000e+00 0.00000000e+00 0.00000000e+00]\n",
      "  [0.00000000e+00 9.70000000e+01 1.17611717e+00]\n",
      "  ...\n",
      "  [9.50000000e+01 7.50000000e+01 1.38047767e-02]\n",
      "  [9.60000000e+01 7.50000000e+01 1.12272056e+00]\n",
      "  [9.70000000e+01 6.20000000e+01 7.80834718e-01]]\n",
      "\n",
      " [[0.00000000e+00 0.00000000e+00 0.00000000e+00]\n",
      "  [0.00000000e+00 9.70000000e+01 1.17611717e+00]\n",
      "  [1.00000000e+00 6.50000000e+01 7.23425068e-04]\n",
      "  ...\n",
      "  [9.60000000e+01 7.50000000e+01 1.12272056e+00]\n",
      "  [9.70000000e+01 6.20000000e+01 7.80834718e-01]\n",
      "  [9.80000000e+01 9.30000000e+01 7.35255504e-01]]\n",
      "\n",
      " ...\n",
      "\n",
      " [[3.00000000e+00 9.50000000e+01 1.77238980e-01]\n",
      "  [4.00000000e+00 2.00000000e+01 3.62698324e+00]\n",
      "  [5.00000000e+00 3.60000000e+01 2.53400921e-01]\n",
      "  ...\n",
      "  [1.00000000e+02 5.90000000e+01 3.07891218e+00]\n",
      "  [1.01000000e+02 6.70000000e+01 5.40959697e+00]\n",
      "  [1.02000000e+02 8.00000000e+01 2.52489273e-05]]\n",
      "\n",
      " [[4.00000000e+00 2.00000000e+01 3.62698324e+00]\n",
      "  [5.00000000e+00 3.60000000e+01 2.53400921e-01]\n",
      "  [6.00000000e+00 5.70000000e+01 5.02923574e-01]\n",
      "  ...\n",
      "  [1.01000000e+02 6.70000000e+01 5.40959697e+00]\n",
      "  [1.02000000e+02 8.00000000e+01 2.52489273e-05]\n",
      "  [1.03000000e+02 4.00000000e+00 1.05358171e+00]]\n",
      "\n",
      " [[5.00000000e+00 3.60000000e+01 2.53400921e-01]\n",
      "  [6.00000000e+00 5.70000000e+01 5.02923574e-01]\n",
      "  [7.00000000e+00 5.10000000e+01 1.86603748e-01]\n",
      "  ...\n",
      "  [1.02000000e+02 8.00000000e+01 2.52489273e-05]\n",
      "  [1.03000000e+02 4.00000000e+00 1.05358171e+00]\n",
      "  [1.04000000e+02 7.60000000e+01 4.31900290e-03]]]\n",
      "(13537,)\n"
     ]
    }
   ],
   "source": [
    "# generate X_train\n",
    "X_train=np.array(list(gen_sequence(df_train, seq_length, seq_cols)))\n",
    "print(X_train.shape)\n",
    "print(df_train[0:10])\n",
    "print(df_train[96:105][:])\n",
    "print(X_train[96:105])\n",
    "# generate y_train\n",
    "y_train=np.array(list(gen_label(df_train, seq_length, seq_cols, 'about_to_fail')))\n",
    "print(y_train.shape)"
   ]
  },
  {
   "cell_type": "code",
   "execution_count": 16,
   "metadata": {},
   "outputs": [
    {
     "name": "stdout",
     "output_type": "stream",
     "text": [
      "(599, 100, 3)\n",
      "(599,)\n",
      "[0. 0. 0. 0. 0. 0. 0. 0. 0. 0. 0. 0. 0. 0. 0. 0. 0. 0. 0. 0. 0. 0. 0. 0.\n",
      " 0. 0. 0. 0. 0. 0. 0. 0. 0. 0. 0. 0. 0. 0. 0. 0. 0. 0. 0. 0. 0. 0. 0. 0.\n",
      " 0. 0. 0. 0. 0. 0. 0. 0. 0. 0. 0. 0. 0. 0. 0. 0. 0. 0. 0. 0. 0. 0. 0. 0.\n",
      " 0. 0. 0. 0. 0. 0. 0. 0. 0. 0. 0. 0. 0. 0. 0. 0. 0. 0. 0. 0. 0. 0. 0. 0.\n",
      " 0. 0. 0. 0. 0. 0. 0. 0. 0. 0. 0. 0. 0. 0. 0. 0. 0. 0. 0. 0. 0. 0. 0. 0.\n",
      " 0. 0. 0. 0. 0. 0. 0. 0. 0. 0. 0. 0. 0. 0. 0. 0. 0. 0. 0. 0. 0. 0. 0. 0.\n",
      " 0. 0. 0. 0. 0. 0. 0. 0. 0. 0. 0. 0. 0. 0. 0. 0. 0. 0. 0. 0. 0. 0. 0. 0.\n",
      " 0. 0. 0. 0. 0. 0. 0. 0. 0. 0. 0. 0. 0. 0. 0. 0. 0. 0. 0. 0. 0. 0. 0. 0.\n",
      " 0. 0. 0. 0. 0. 0. 0. 0. 0. 0. 0. 0. 0. 0. 0. 0. 0. 0. 0. 0. 0. 0. 0. 0.\n",
      " 0. 0. 0. 0. 0. 0. 0. 0. 0. 0. 0. 0. 0. 0. 0. 0. 0. 0. 0. 0. 0. 0. 0. 0.\n",
      " 0. 0. 0. 0. 0. 0. 0. 0. 0. 0. 0. 0. 0. 0. 0. 0. 0. 0. 0. 0. 0. 0. 0. 0.\n",
      " 0. 0. 0. 0. 0. 0. 0. 0. 0. 0. 0. 0. 0. 0. 0. 0. 0. 0. 0. 0. 0. 0. 0. 0.\n",
      " 0. 0. 0. 0. 0. 0. 0. 0. 0. 0. 0. 0. 0. 0. 0. 0. 0. 0. 0. 0. 0. 0. 0. 0.\n",
      " 0. 0. 0. 0. 0. 0. 0. 0. 0. 0. 0. 0. 0. 0. 0. 0. 0. 0. 0. 0. 0. 0. 0. 0.\n",
      " 0. 0. 0. 0. 0. 0. 0. 0. 0. 0. 0. 0. 0. 0. 0. 0. 0. 0. 0. 0. 0. 0. 0. 0.\n",
      " 0. 0. 0. 0. 0. 0. 0. 0. 0. 0. 0. 0. 0. 0. 0. 0. 0. 0. 0. 0. 0. 0. 0. 0.\n",
      " 0. 0. 0. 0. 0. 0. 0. 0. 0. 0. 0. 0. 0. 0. 0. 0. 0. 0. 0. 0. 0. 0. 0. 0.\n",
      " 0. 0. 0. 0. 0. 0. 0. 0. 0. 0. 0. 0. 0. 0. 0. 0. 0. 0. 0. 0. 0. 0. 0. 0.\n",
      " 0. 0. 0. 0. 0. 0. 0. 0. 0. 0. 0. 0. 0. 0. 0. 0. 0. 0. 0. 0. 0. 0. 0. 0.\n",
      " 0. 0. 0. 0. 0. 0. 0. 0. 0. 0. 0. 0. 0. 0. 0. 0. 0. 0. 0. 0. 0. 0. 0. 0.\n",
      " 0. 0. 0. 0. 0. 0. 0. 0. 0. 0. 0. 0. 0. 0. 0. 0. 0. 0. 0. 1. 1. 1. 1. 1.\n",
      " 1. 1. 1. 1. 1. 1. 1. 1. 1. 1. 1. 1. 1. 1. 1. 1. 1. 1. 1. 1. 1. 1. 1. 1.\n",
      " 1. 1. 1. 1. 1. 1. 1. 1. 1. 1. 1. 1. 1. 1. 1. 1. 1. 1. 1. 1. 1. 1. 1. 1.\n",
      " 1. 1. 1. 1. 1. 1. 1. 1. 1. 1. 1. 1. 1. 1. 1. 1. 1. 1. 1. 1. 1. 1. 1. 1.\n",
      " 1. 1. 1. 1. 1. 1. 1. 1. 1. 1. 1. 1. 1. 1. 1. 1. 1. 1. 1. 1. 1. 1. 1.]\n"
     ]
    }
   ],
   "source": [
    "# generate X_test\n",
    "X_test=np.array(list(gen_sequence(df_test, seq_length, seq_cols)))\n",
    "print(X_test.shape)\n",
    "# generate y_test\n",
    "y_test=np.array(list(gen_label(df_test, seq_length, seq_cols, 'about_to_fail')))\n",
    "print(y_test.shape)\n",
    "print(y_test[0:600])"
   ]
  },
  {
   "cell_type": "code",
   "execution_count": 17,
   "metadata": {},
   "outputs": [
    {
     "name": "stdout",
     "output_type": "stream",
     "text": [
      "_________________________________________________________________\n",
      "Layer (type)                 Output Shape              Param #   \n",
      "=================================================================\n",
      "lstm_1 (LSTM)                (None, 100, 100)          41600     \n",
      "_________________________________________________________________\n",
      "dropout_1 (Dropout)          (None, 100, 100)          0         \n",
      "_________________________________________________________________\n",
      "lstm_2 (LSTM)                (None, 50)                30200     \n",
      "_________________________________________________________________\n",
      "dropout_2 (Dropout)          (None, 50)                0         \n",
      "_________________________________________________________________\n",
      "dense_1 (Dense)              (None, 1)                 51        \n",
      "=================================================================\n",
      "Total params: 71,851\n",
      "Trainable params: 71,851\n",
      "Non-trainable params: 0\n",
      "_________________________________________________________________\n",
      "Train on 12860 samples, validate on 677 samples\n",
      "Epoch 1/2\n",
      "12860/12860 [==============================] - 284s 22ms/step - loss: 0.0530 - acc: 0.9843 - val_loss: 0.0367 - val_acc: 0.9897\n",
      "Epoch 2/2\n",
      "12860/12860 [==============================] - 274s 21ms/step - loss: 0.0451 - acc: 0.9872 - val_loss: 0.0271 - val_acc: 0.9911\n",
      "dict_keys(['val_loss', 'val_acc', 'loss', 'acc'])\n"
     ]
    }
   ],
   "source": [
    "nb_features =X_train.shape[2]\n",
    "timestamp=seq_length\n",
    "label_gen = list(gen_label(df_test, seq_length, seq_cols, 'about_to_fail'))\n",
    "label_array = np.array(label_gen).astype(np.float32)\n",
    "label_array.shape\n",
    "# nb_out = label_array.shape[1]\n",
    "\n",
    "model = Sequential()\n",
    "\n",
    "model.add(LSTM(input_shape=(timestamp, nb_features),units=100,return_sequences=True))\n",
    "model.add(Dropout(0.2))\n",
    "\n",
    "model.add(LSTM(units=50,return_sequences=False))\n",
    "model.add(Dropout(0.2))\n",
    "\n",
    "model.add(Dense(units=1, activation='sigmoid'))\n",
    "\n",
    "model.compile(loss='binary_crossentropy', optimizer='adam', metrics=['accuracy'])\n",
    "\n",
    "model.summary()\n",
    "\n",
    "# fit the network\n",
    "history = model.fit(X_train, y_train, epochs=2, batch_size=10, validation_split=0.05, #verbose=2,\n",
    "          callbacks = [keras.callbacks.EarlyStopping(monitor='val_loss', min_delta=0, patience=10, verbose=0, mode='min'),\n",
    "                       keras.callbacks.ModelCheckpoint(model_path,monitor='val_loss', save_best_only=True, mode='min', verbose=0)]\n",
    "          )\n",
    "\n",
    "# list all data in history\n",
    "print(history.history.keys())"
   ]
  },
  {
   "cell_type": "markdown",
   "metadata": {},
   "source": [
    "# Sanity check model accuracy and loss"
   ]
  },
  {
   "cell_type": "code",
   "execution_count": 32,
   "metadata": {},
   "outputs": [
    {
     "ename": "NameError",
     "evalue": "name 'saved_history' is not defined",
     "output_type": "error",
     "traceback": [
      "\u001b[0;31m---------------------------------------------------------------------------\u001b[0m",
      "\u001b[0;31mNameError\u001b[0m                                 Traceback (most recent call last)",
      "\u001b[0;32m<ipython-input-32-8e385fb11f45>\u001b[0m in \u001b[0;36m<module>\u001b[0;34m()\u001b[0m\n\u001b[1;32m      8\u001b[0m \u001b[0mplt\u001b[0m\u001b[0;34m.\u001b[0m\u001b[0mxlabel\u001b[0m\u001b[0;34m(\u001b[0m\u001b[0;34m'epoch'\u001b[0m\u001b[0;34m)\u001b[0m\u001b[0;34m\u001b[0m\u001b[0m\n\u001b[1;32m      9\u001b[0m \u001b[0mplt\u001b[0m\u001b[0;34m.\u001b[0m\u001b[0mlegend\u001b[0m\u001b[0;34m(\u001b[0m\u001b[0;34m[\u001b[0m\u001b[0;34m'train'\u001b[0m\u001b[0;34m,\u001b[0m \u001b[0;34m'test'\u001b[0m\u001b[0;34m]\u001b[0m\u001b[0;34m,\u001b[0m \u001b[0mloc\u001b[0m\u001b[0;34m=\u001b[0m\u001b[0;34m'upper left'\u001b[0m\u001b[0;34m)\u001b[0m\u001b[0;34m\u001b[0m\u001b[0m\n\u001b[0;32m---> 10\u001b[0;31m \u001b[0mplt\u001b[0m\u001b[0;34m.\u001b[0m\u001b[0mplot\u001b[0m\u001b[0;34m(\u001b[0m\u001b[0msaved_history\u001b[0m\u001b[0;34m[\u001b[0m\u001b[0;34m'acc'\u001b[0m\u001b[0;34m]\u001b[0m\u001b[0;34m)\u001b[0m\u001b[0;34m\u001b[0m\u001b[0m\n\u001b[0m\u001b[1;32m     11\u001b[0m \u001b[0mplt\u001b[0m\u001b[0;34m.\u001b[0m\u001b[0mplot\u001b[0m\u001b[0;34m(\u001b[0m\u001b[0msaved_history\u001b[0m\u001b[0;34m[\u001b[0m\u001b[0;34m'val_acc'\u001b[0m\u001b[0;34m]\u001b[0m\u001b[0;34m)\u001b[0m\u001b[0;34m\u001b[0m\u001b[0m\n\u001b[1;32m     12\u001b[0m \u001b[0;31m# plt.show()\u001b[0m\u001b[0;34m\u001b[0m\u001b[0;34m\u001b[0m\u001b[0m\n",
      "\u001b[0;31mNameError\u001b[0m: name 'saved_history' is not defined"
     ]
    },
    {
     "data": {
      "image/png": "[encoded data removed]",
      "text/plain": [
       "<Figure size 6000x1500 with 1 Axes>"
      ]
     },
     "metadata": {},
     "output_type": "display_data"
    }
   ],
   "source": [
    "#Accuracy should be great than 0.9, and loss should be less than 0.1.\n",
    "# summarize history for Accuracy\n",
    "fig_acc = plt.figure(figsize=(20, 5), dpi=300)\n",
    "plt.subplot(1, 2, 1)\n",
    "plt.subplots_adjust(hspace=.4, wspace=.4)\n",
    "plt.title('model accuracy')\n",
    "plt.ylabel('accuracy')\n",
    "plt.xlabel('epoch')\n",
    "plt.legend(['train', 'test'], loc='upper left')\n",
    "plt.plot(saved_history['acc'])\n",
    "plt.plot(saved_history['val_acc'])\n",
    "# plt.show()\n",
    "# fig_acc.savefig(\"./Output/model_accuracy.png\")\n",
    "\n",
    "# summarize history for Loss\n",
    "plt.subplot(1, 2, 2)\n",
    "plt.title('model loss')\n",
    "plt.ylabel('loss')\n",
    "plt.xlabel('epoch')\n",
    "plt.legend(['train', 'test'], loc='upper left')\n",
    "plt.plot(saved_history['loss'])\n",
    "plt.plot(saved_history['val_loss'])\n",
    "# plt.show()\n",
    "# fig_acc.savefig(\"./Output/model_loss.png\")"
   ]
  },
  {
   "cell_type": "markdown",
   "metadata": {},
   "source": [
    "# Save the model"
   ]
  },
  {
   "cell_type": "code",
   "execution_count": 19,
   "metadata": {},
   "outputs": [
    {
     "name": "stdout",
     "output_type": "stream",
     "text": [
      "Saved model to disk\n"
     ]
    }
   ],
   "source": [
    "##################################\n",
    "# Save model and training history\n",
    "##################################\n",
    "\n",
    "import pickle\n",
    "filename = open(\"./Output/LSTM_about_to_fail_model_history\",\"wb\")\n",
    "pickle.dump(history.history, filename)\n",
    "filename.close()\n",
    "        \n",
    "# serialize model to JSON\n",
    "model_json = model.to_json()\n",
    "with open(\"./Output/LSTM_about_to_fail_model.json\", \"w\") as json_file:\n",
    "    json_file.write(model_json)\n",
    "# serialize weights to HDF5\n",
    "model.save_weights(\"./Output/LSTM_about_to_fail_model.h5\")\n",
    "print(\"Saved model to disk\")"
   ]
  },
  {
   "cell_type": "markdown",
   "metadata": {},
   "source": [
    "# Load the model"
   ]
  },
  {
   "cell_type": "code",
   "execution_count": 20,
   "metadata": {},
   "outputs": [
    {
     "name": "stdout",
     "output_type": "stream",
     "text": [
      "Loaded model from disk\n"
     ]
    }
   ],
   "source": [
    "###########################################\n",
    "# Load model and training history from disk\n",
    "###########################################\n",
    "import pickle\n",
    "history_file = open(\"./Output/LSTM_about_to_fail_model_history\",\"rb\")\n",
    "history = pickle.load(history_file)\n",
    "history_file.close()\n",
    "\n",
    "# Load model from disk\n",
    "from keras.models import model_from_json\n",
    "# load json and create model\n",
    "json_file = open(\"./Output/LSTM_about_to_fail_model.json\", \"r\")\n",
    "loaded_model_json = json_file.read()\n",
    "json_file.close()\n",
    "model = model_from_json(loaded_model_json)\n",
    "# load weights into new model\n",
    "model.load_weights(\"./Output/LSTM_about_to_fail_model.h5\")\n",
    "print(\"Loaded model from disk\")\n",
    "model.compile(loss='binary_crossentropy', optimizer='adam', metrics=['accuracy'])"
   ]
  },
  {
   "cell_type": "code",
   "execution_count": 21,
   "metadata": {},
   "outputs": [
    {
     "name": "stdout",
     "output_type": "stream",
     "text": [
      "13537/13537 [==============================] - 12s 898us/step\n",
      "13537/13537 [==============================] - 12s 904us/step\n",
      "Accuracy of predictions made on data used for training:\n",
      "0.9882544177255013\n",
      "precision = 0.9431602879878742\n",
      "recall = 0.9963971176941553\n"
     ]
    }
   ],
   "source": [
    "# make predictions and compute confusion matrix\n",
    "scores = model.evaluate(X_train, y_train, verbose=1, batch_size=200)\n",
    "y_pred = model.predict_classes(X_train, verbose=1, batch_size=200)\n",
    "y_true = y_train\n",
    "# test_set = pd.DataFrame(y_pred)\n",
    "#test_set.to_csv('./Output/binary_submit_train.csv', index = None)\n",
    "print('Accuracy of predictions made on data used for training:\\n{}'.format(scores[1]))\n",
    "# compute precision and recall\n",
    "precision = precision_score(y_true, y_pred)\n",
    "recall = recall_score(y_true, y_pred)\n",
    "print( 'precision = ' + str(precision) + '\\nrecall = ' + str(recall))"
   ]
  },
  {
   "cell_type": "markdown",
   "metadata": {},
   "source": [
    "# Compare predictions vs actual data"
   ]
  },
  {
   "cell_type": "code",
   "execution_count": 22,
   "metadata": {},
   "outputs": [
    {
     "name": "stdout",
     "output_type": "stream",
     "text": [
      "Confusion matrix on training data:\n",
      "- x-axis is true labels.\n",
      "- y-axis is predicted labels\n"
     ]
    },
    {
     "data": {
      "text/html": [
       "<div>\n",
       "<style scoped>\n",
       "    .dataframe tbody tr th:only-of-type {\n",
       "        vertical-align: middle;\n",
       "    }\n",
       "\n",
       "    .dataframe tbody tr th {\n",
       "        vertical-align: top;\n",
       "    }\n",
       "\n",
       "    .dataframe thead th {\n",
       "        text-align: right;\n",
       "    }\n",
       "</style>\n",
       "<table border=\"1\" class=\"dataframe\">\n",
       "  <thead>\n",
       "    <tr style=\"text-align: right;\">\n",
       "      <th></th>\n",
       "      <th>0</th>\n",
       "      <th>1</th>\n",
       "    </tr>\n",
       "  </thead>\n",
       "  <tbody>\n",
       "    <tr>\n",
       "      <th>0</th>\n",
       "      <td>10889</td>\n",
       "      <td>150</td>\n",
       "    </tr>\n",
       "    <tr>\n",
       "      <th>1</th>\n",
       "      <td>9</td>\n",
       "      <td>2489</td>\n",
       "    </tr>\n",
       "  </tbody>\n",
       "</table>\n",
       "</div>"
      ],
      "text/plain": [
       "       0     1\n",
       "0  10889   150\n",
       "1      9  2489"
      ]
     },
     "execution_count": 22,
     "metadata": {},
     "output_type": "execute_result"
    }
   ],
   "source": [
    "print('Confusion matrix on training data:\\n- x-axis is true labels.\\n- y-axis is predicted labels')\n",
    "cm = confusion_matrix(y_true, y_pred)\n",
    "pd.DataFrame(cm).head(2)"
   ]
  },
  {
   "cell_type": "code",
   "execution_count": 23,
   "metadata": {},
   "outputs": [
    {
     "data": {
      "text/plain": [
       "[<matplotlib.lines.Line2D at 0x1a2b331d30>]"
      ]
     },
     "execution_count": 23,
     "metadata": {},
     "output_type": "execute_result"
    },
    {
     "data": {
      "image/png": "[encoded data removed]",
      "text/plain": [
       "<Figure size 3600x720 with 2 Axes>"
      ]
     },
     "metadata": {},
     "output_type": "display_data"
    }
   ],
   "source": [
    "plt.figure(figsize=(50, 10))\n",
    "plt.subplot(2, 1, 1)\n",
    "plt.subplots_adjust(hspace=.4, wspace=.4)\n",
    "plt.title(\"About to Fail (ground truth)\")\n",
    "plt.plot(y_true,'r')\n",
    "plt.subplot(2, 1, 2)\n",
    "plt.subplots_adjust(hspace=.4, wspace=.4)\n",
    "plt.title(\"About to Fail (predictions on training data)\")\n",
    "plt.plot(y_pred,'b')"
   ]
  },
  {
   "cell_type": "code",
   "execution_count": 24,
   "metadata": {},
   "outputs": [
    {
     "name": "stdout",
     "output_type": "stream",
     "text": [
      "Accuracy of model on test data: 0.9115191986644408\n",
      "Confusion matrix on training data:\n",
      "- x-axis is true labels.\n",
      "- y-axis is predicted labels\n"
     ]
    },
    {
     "data": {
      "text/html": [
       "<div>\n",
       "<style scoped>\n",
       "    .dataframe tbody tr th:only-of-type {\n",
       "        vertical-align: middle;\n",
       "    }\n",
       "\n",
       "    .dataframe tbody tr th {\n",
       "        vertical-align: top;\n",
       "    }\n",
       "\n",
       "    .dataframe thead th {\n",
       "        text-align: right;\n",
       "    }\n",
       "</style>\n",
       "<table border=\"1\" class=\"dataframe\">\n",
       "  <thead>\n",
       "    <tr style=\"text-align: right;\">\n",
       "      <th></th>\n",
       "      <th>0</th>\n",
       "      <th>1</th>\n",
       "    </tr>\n",
       "  </thead>\n",
       "  <tbody>\n",
       "    <tr>\n",
       "      <th>0</th>\n",
       "      <td>499</td>\n",
       "      <td>0</td>\n",
       "    </tr>\n",
       "    <tr>\n",
       "      <th>1</th>\n",
       "      <td>53</td>\n",
       "      <td>47</td>\n",
       "    </tr>\n",
       "  </tbody>\n",
       "</table>\n",
       "</div>"
      ],
      "text/plain": [
       "     0   1\n",
       "0  499   0\n",
       "1   53  47"
      ]
     },
     "execution_count": 24,
     "metadata": {},
     "output_type": "execute_result"
    }
   ],
   "source": [
    "y_pred2=model.predict_classes(X_test)\n",
    "print('Accuracy of model on test data: ' + str(accuracy_score(y_test,y_pred2)))\n",
    "print('Confusion matrix on training data:\\n- x-axis is true labels.\\n- y-axis is predicted labels')\n",
    "pd.DataFrame(confusion_matrix(y_test,y_pred2)).head(2)"
   ]
  },
  {
   "cell_type": "code",
   "execution_count": 25,
   "metadata": {},
   "outputs": [
    {
     "data": {
      "text/plain": [
       "[<matplotlib.lines.Line2D at 0x1a2d530e80>]"
      ]
     },
     "execution_count": 25,
     "metadata": {},
     "output_type": "execute_result"
    },
    {
     "data": {
      "image/png": "[encoded data removed]",
      "text/plain": [
       "<Figure size 1440x720 with 1 Axes>"
      ]
     },
     "metadata": {},
     "output_type": "display_data"
    }
   ],
   "source": [
    "plt.figure(figsize=(20, 10))\n",
    "plt.subplot(4, 4, 1)\n",
    "plt.subplots_adjust(hspace=.4, wspace=.4)\n",
    "plt.title(\"About to Fail (Predictions on test data)\")\n",
    "plt.plot(y_pred2)"
   ]
  },
  {
   "cell_type": "markdown",
   "metadata": {},
   "source": [
    "# Functions for predicting failures"
   ]
  },
  {
   "cell_type": "code",
   "execution_count": 27,
   "metadata": {},
   "outputs": [],
   "source": [
    "def prob_failure(df):\n",
    "    test = gen_sequence(df,seq_length,seq_cols)\n",
    "    m_pred = model.predict(test)\n",
    "    failure_prob=list(m_pred[-1])[0]\n",
    "    return failure_prob\n",
    "\n",
    "def plot_prediction(df):\n",
    "    X_test3=np.array(list(gen_sequence(df, seq_length, seq_cols)))\n",
    "    y_test3=np.array(list(gen_label(df_test, seq_length, seq_cols, 'about_to_fail')))\n",
    "    y_pred3=model.predict_classes(X_test3)\n",
    "    confidence = model.predict(gen_sequence(df,seq_length,seq_cols))\n",
    "    plt.figure(figsize=(20, 10), dpi=300)\n",
    "    plt.subplot(4, 4, 1)\n",
    "    plt.subplots_adjust(hspace=.4, wspace=.4)\n",
    "    plt.title(\"About to Fail Within \"+str(about_to_fail_window)+\" cycles\")\n",
    "    plt.ylim(-.1, 1.1)\n",
    "    plt.xlabel('cycles')\n",
    "    plt.yticks(np.arange(2), ('False', 'True'))\n",
    "    plt.plot(df['about_to_fail'], 'r', label='actual')\n",
    "    plt.plot(y_pred3, 'b', label='predicted')\n",
    "    plt.legend(loc='upper left')\n",
    "    plt.subplot(4, 4, 2)\n",
    "    plt.title(\"Probability of Failure\")\n",
    "    plt.ylim(-.1, 1.1)\n",
    "    plt.xlabel('cycles')\n",
    "    plt.plot(confidence,'r')\n",
    "    print(\"Probability of failure within \" + str(about_to_fail_window) + \" cycles: {0:.1%}\".format(prob_failure(df)))\n",
    "    print('Accuracy Score: {0:.2}'.format(accuracy_score(y_test3,y_pred3)))\n",
    "    print('Confusion matrix:\\n- x-axis is true labels.\\n- y-axis is predicted labels')\n",
    "    print(pd.DataFrame(confusion_matrix(y_test3,y_pred3)).head(2))"
   ]
  },
  {
   "cell_type": "markdown",
   "metadata": {},
   "source": [
    "# Model Tests"
   ]
  },
  {
   "cell_type": "code",
   "execution_count": 29,
   "metadata": {},
   "outputs": [
    {
     "name": "stdout",
     "output_type": "stream",
     "text": [
      "Probability of failure within 50 cycles: 97.5%\n",
      "Accuracy Score: 0.91\n",
      "Confusion matrix:\n",
      "- x-axis is true labels.\n",
      "- y-axis is predicted labels\n",
      "     0   1\n",
      "0  499   0\n",
      "1   53  47\n"
     ]
    },
    {
     "data": {
      "image/png": "[encoded data removed]",
      "text/plain": [
       "<Figure size 6000x3000 with 2 Axes>"
      ]
     },
     "metadata": {},
     "output_type": "display_data"
    }
   ],
   "source": [
    "df=pd.read_json('./Dataset/PM_logsynth_test1.json', lines=True)\n",
    "df['rul']=df['max_life'] - df['cycle']\n",
    "df['about_to_fail'] = np.where(df['rul'] <= w1, 1, 0 )\n",
    "plot_prediction(df)"
   ]
  },
  {
   "cell_type": "code",
   "execution_count": 31,
   "metadata": {},
   "outputs": [
    {
     "ename": "ValueError",
     "evalue": "Expected object or value",
     "output_type": "error",
     "traceback": [
      "\u001b[0;31m---------------------------------------------------------------------------\u001b[0m",
      "\u001b[0;31mValueError\u001b[0m                                Traceback (most recent call last)",
      "\u001b[0;32m<ipython-input-31-372b2a197d51>\u001b[0m in \u001b[0;36m<module>\u001b[0;34m()\u001b[0m\n\u001b[0;32m----> 1\u001b[0;31m \u001b[0mdf\u001b[0m\u001b[0;34m=\u001b[0m\u001b[0mpd\u001b[0m\u001b[0;34m.\u001b[0m\u001b[0mread_json\u001b[0m\u001b[0;34m(\u001b[0m\u001b[0;34m'./Dataset/PM_logsynth_test2.json'\u001b[0m\u001b[0;34m,\u001b[0m \u001b[0mlines\u001b[0m\u001b[0;34m=\u001b[0m\u001b[0;32mTrue\u001b[0m\u001b[0;34m)\u001b[0m\u001b[0;34m\u001b[0m\u001b[0m\n\u001b[0m\u001b[1;32m      2\u001b[0m \u001b[0mdf\u001b[0m\u001b[0;34m[\u001b[0m\u001b[0;34m'rul'\u001b[0m\u001b[0;34m]\u001b[0m\u001b[0;34m=\u001b[0m\u001b[0mdf\u001b[0m\u001b[0;34m[\u001b[0m\u001b[0;34m'max_life'\u001b[0m\u001b[0;34m]\u001b[0m \u001b[0;34m-\u001b[0m \u001b[0mdf\u001b[0m\u001b[0;34m[\u001b[0m\u001b[0;34m'cycle'\u001b[0m\u001b[0;34m]\u001b[0m\u001b[0;34m\u001b[0m\u001b[0m\n\u001b[1;32m      3\u001b[0m \u001b[0mdf\u001b[0m\u001b[0;34m[\u001b[0m\u001b[0;34m'about_to_fail'\u001b[0m\u001b[0;34m]\u001b[0m \u001b[0;34m=\u001b[0m \u001b[0mnp\u001b[0m\u001b[0;34m.\u001b[0m\u001b[0mwhere\u001b[0m\u001b[0;34m(\u001b[0m\u001b[0mdf\u001b[0m\u001b[0;34m[\u001b[0m\u001b[0;34m'rul'\u001b[0m\u001b[0;34m]\u001b[0m \u001b[0;34m<=\u001b[0m \u001b[0mw1\u001b[0m\u001b[0;34m,\u001b[0m \u001b[0;36m1\u001b[0m\u001b[0;34m,\u001b[0m \u001b[0;36m0\u001b[0m \u001b[0;34m)\u001b[0m\u001b[0;34m\u001b[0m\u001b[0m\n\u001b[1;32m      4\u001b[0m \u001b[0mplot_prediction\u001b[0m\u001b[0;34m(\u001b[0m\u001b[0mdf\u001b[0m\u001b[0;34m)\u001b[0m\u001b[0;34m\u001b[0m\u001b[0m\n",
      "\u001b[0;32m~/anaconda3/lib/python3.6/site-packages/pandas/io/json/json.py\u001b[0m in \u001b[0;36mread_json\u001b[0;34m(path_or_buf, orient, typ, dtype, convert_axes, convert_dates, keep_default_dates, numpy, precise_float, date_unit, encoding, lines, chunksize, compression)\u001b[0m\n\u001b[1;32m    420\u001b[0m         \u001b[0;32mreturn\u001b[0m \u001b[0mjson_reader\u001b[0m\u001b[0;34m\u001b[0m\u001b[0m\n\u001b[1;32m    421\u001b[0m \u001b[0;34m\u001b[0m\u001b[0m\n\u001b[0;32m--> 422\u001b[0;31m     \u001b[0mresult\u001b[0m \u001b[0;34m=\u001b[0m \u001b[0mjson_reader\u001b[0m\u001b[0;34m.\u001b[0m\u001b[0mread\u001b[0m\u001b[0;34m(\u001b[0m\u001b[0;34m)\u001b[0m\u001b[0;34m\u001b[0m\u001b[0m\n\u001b[0m\u001b[1;32m    423\u001b[0m     \u001b[0;32mif\u001b[0m \u001b[0mshould_close\u001b[0m\u001b[0;34m:\u001b[0m\u001b[0;34m\u001b[0m\u001b[0m\n\u001b[1;32m    424\u001b[0m         \u001b[0;32mtry\u001b[0m\u001b[0;34m:\u001b[0m\u001b[0;34m\u001b[0m\u001b[0m\n",
      "\u001b[0;32m~/anaconda3/lib/python3.6/site-packages/pandas/io/json/json.py\u001b[0m in \u001b[0;36mread\u001b[0;34m(self)\u001b[0m\n\u001b[1;32m    524\u001b[0m             \u001b[0mdata\u001b[0m \u001b[0;34m=\u001b[0m \u001b[0mto_str\u001b[0m\u001b[0;34m(\u001b[0m\u001b[0mself\u001b[0m\u001b[0;34m.\u001b[0m\u001b[0mdata\u001b[0m\u001b[0;34m)\u001b[0m\u001b[0;34m\u001b[0m\u001b[0m\n\u001b[1;32m    525\u001b[0m             obj = self._get_object_parser(\n\u001b[0;32m--> 526\u001b[0;31m                 \u001b[0mself\u001b[0m\u001b[0;34m.\u001b[0m\u001b[0m_combine_lines\u001b[0m\u001b[0;34m(\u001b[0m\u001b[0mdata\u001b[0m\u001b[0;34m.\u001b[0m\u001b[0msplit\u001b[0m\u001b[0;34m(\u001b[0m\u001b[0;34m'\\n'\u001b[0m\u001b[0;34m)\u001b[0m\u001b[0;34m)\u001b[0m\u001b[0;34m\u001b[0m\u001b[0m\n\u001b[0m\u001b[1;32m    527\u001b[0m             )\n\u001b[1;32m    528\u001b[0m         \u001b[0;32melse\u001b[0m\u001b[0;34m:\u001b[0m\u001b[0;34m\u001b[0m\u001b[0m\n",
      "\u001b[0;32m~/anaconda3/lib/python3.6/site-packages/pandas/io/json/json.py\u001b[0m in \u001b[0;36m_get_object_parser\u001b[0;34m(self, json)\u001b[0m\n\u001b[1;32m    544\u001b[0m         \u001b[0mobj\u001b[0m \u001b[0;34m=\u001b[0m \u001b[0;32mNone\u001b[0m\u001b[0;34m\u001b[0m\u001b[0m\n\u001b[1;32m    545\u001b[0m         \u001b[0;32mif\u001b[0m \u001b[0mtyp\u001b[0m \u001b[0;34m==\u001b[0m \u001b[0;34m'frame'\u001b[0m\u001b[0;34m:\u001b[0m\u001b[0;34m\u001b[0m\u001b[0m\n\u001b[0;32m--> 546\u001b[0;31m             \u001b[0mobj\u001b[0m \u001b[0;34m=\u001b[0m \u001b[0mFrameParser\u001b[0m\u001b[0;34m(\u001b[0m\u001b[0mjson\u001b[0m\u001b[0;34m,\u001b[0m \u001b[0;34m**\u001b[0m\u001b[0mkwargs\u001b[0m\u001b[0;34m)\u001b[0m\u001b[0;34m.\u001b[0m\u001b[0mparse\u001b[0m\u001b[0;34m(\u001b[0m\u001b[0;34m)\u001b[0m\u001b[0;34m\u001b[0m\u001b[0m\n\u001b[0m\u001b[1;32m    547\u001b[0m \u001b[0;34m\u001b[0m\u001b[0m\n\u001b[1;32m    548\u001b[0m         \u001b[0;32mif\u001b[0m \u001b[0mtyp\u001b[0m \u001b[0;34m==\u001b[0m \u001b[0;34m'series'\u001b[0m \u001b[0;32mor\u001b[0m \u001b[0mobj\u001b[0m \u001b[0;32mis\u001b[0m \u001b[0;32mNone\u001b[0m\u001b[0;34m:\u001b[0m\u001b[0;34m\u001b[0m\u001b[0m\n",
      "\u001b[0;32m~/anaconda3/lib/python3.6/site-packages/pandas/io/json/json.py\u001b[0m in \u001b[0;36mparse\u001b[0;34m(self)\u001b[0m\n\u001b[1;32m    636\u001b[0m \u001b[0;34m\u001b[0m\u001b[0m\n\u001b[1;32m    637\u001b[0m         \u001b[0;32melse\u001b[0m\u001b[0;34m:\u001b[0m\u001b[0;34m\u001b[0m\u001b[0m\n\u001b[0;32m--> 638\u001b[0;31m             \u001b[0mself\u001b[0m\u001b[0;34m.\u001b[0m\u001b[0m_parse_no_numpy\u001b[0m\u001b[0;34m(\u001b[0m\u001b[0;34m)\u001b[0m\u001b[0;34m\u001b[0m\u001b[0m\n\u001b[0m\u001b[1;32m    639\u001b[0m \u001b[0;34m\u001b[0m\u001b[0m\n\u001b[1;32m    640\u001b[0m         \u001b[0;32mif\u001b[0m \u001b[0mself\u001b[0m\u001b[0;34m.\u001b[0m\u001b[0mobj\u001b[0m \u001b[0;32mis\u001b[0m \u001b[0;32mNone\u001b[0m\u001b[0;34m:\u001b[0m\u001b[0;34m\u001b[0m\u001b[0m\n",
      "\u001b[0;32m~/anaconda3/lib/python3.6/site-packages/pandas/io/json/json.py\u001b[0m in \u001b[0;36m_parse_no_numpy\u001b[0;34m(self)\u001b[0m\n\u001b[1;32m    851\u001b[0m         \u001b[0;32mif\u001b[0m \u001b[0morient\u001b[0m \u001b[0;34m==\u001b[0m \u001b[0;34m\"columns\"\u001b[0m\u001b[0;34m:\u001b[0m\u001b[0;34m\u001b[0m\u001b[0m\n\u001b[1;32m    852\u001b[0m             self.obj = DataFrame(\n\u001b[0;32m--> 853\u001b[0;31m                 loads(json, precise_float=self.precise_float), dtype=None)\n\u001b[0m\u001b[1;32m    854\u001b[0m         \u001b[0;32melif\u001b[0m \u001b[0morient\u001b[0m \u001b[0;34m==\u001b[0m \u001b[0;34m\"split\"\u001b[0m\u001b[0;34m:\u001b[0m\u001b[0;34m\u001b[0m\u001b[0m\n\u001b[1;32m    855\u001b[0m             decoded = {str(k): v for k, v in compat.iteritems(\n",
      "\u001b[0;31mValueError\u001b[0m: Expected object or value"
     ]
    }
   ],
   "source": [
    "df=pd.read_json('./Dataset/PM_logsynth_test2.json', lines=True)\n",
    "df['rul']=df['max_life'] - df['cycle']\n",
    "df['about_to_fail'] = np.where(df['rul'] <= w1, 1, 0 )\n",
    "plot_prediction(df)"
   ]
  },
  {
   "cell_type": "code",
   "execution_count": null,
   "metadata": {},
   "outputs": [],
   "source": [
    "df=pd.read_json('./Dataset/PM_logsynth_test3.json', lines=True)\n",
    "df['rul']=df['max_life'] - df['cycle']\n",
    "df['about_to_fail'] = np.where(df['rul'] <= w1, 1, 0 )\n",
    "plot_prediction(df)"
   ]
  },
  {
   "cell_type": "code",
   "execution_count": null,
   "metadata": {},
   "outputs": [],
   "source": [
    "df=pd.read_json('./Dataset/PM_logsynth_test4.json', lines=True)\n",
    "df['rul']=df['max_life'] - df['cycle']\n",
    "df['about_to_fail'] = np.where(df['rul'] <= w1, 1, 0 )\n",
    "plot_prediction(df)"
   ]
  }
 ],
 "metadata": {
  "kernelspec": {
   "display_name": "Python 3",
   "language": "python",
   "name": "python3"
  },
  "language_info": {
   "codemirror_mode": {
    "name": "ipython",
    "version": 3
   },
   "file_extension": ".py",
   "mimetype": "text/x-python",
   "name": "python",
   "nbconvert_exporter": "python",
   "pygments_lexer": "ipython3",
   "version": "3.6.5"
  }
 },
 "nbformat": 4,
 "nbformat_minor": 2
}
