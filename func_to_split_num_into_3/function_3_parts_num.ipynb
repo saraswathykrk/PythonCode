{
 "cells": [
  {
   "cell_type": "code",
   "execution_count": 32,
   "metadata": {},
   "outputs": [],
   "source": [
    "def number_found(num):\n",
    "    div = 1\n",
    "    c = True\n",
    "    found = False\n",
    "    while c:\n",
    "        num2 = 0\n",
    "        num3 = 0\n",
    "        d = True\n",
    "        div = div * 10\n",
    "        num1 = str(int(int(num) / div))\n",
    "        num4 = str(int(int(num) % div))\n",
    "        num4 = int(num4)\n",
    "        len1 = len(num1)\n",
    "        if len1 % 2 == 1:\n",
    "            power = len1 // 2 + 1\n",
    "        else:\n",
    "            power = int(len1 / 2)\n",
    "        num1 = int(num1)\n",
    "        while d:\n",
    "            num3 = num1 % (10 ** power)\n",
    "            num2 = num1 // (10 ** power)\n",
    "            if num3 > 0:\n",
    "                power = power - 1\n",
    "            else:\n",
    "                d = False\n",
    "            if num4 == (num2 + num3):\n",
    "                found = True\n",
    "                c = False\n",
    "                break\n",
    "            elif num4 == int(num):\n",
    "                found = False\n",
    "                c = False\n",
    "                break\n",
    "            else:\n",
    "                continue\n",
    "    return found"
   ]
  },
  {
   "cell_type": "code",
   "execution_count": 35,
   "metadata": {},
   "outputs": [
    {
     "name": "stdout",
     "output_type": "stream",
     "text": [
      "Enter a Number ::989107\n",
      "The number can be separate into 3 parts as required :: True\n"
     ]
    }
   ],
   "source": [
    "num = input(\"Enter a Number ::\")\n",
    "print(\"The number can be separate into 3 parts as required ::\",number_found(int(num)))"
   ]
  },
  {
   "cell_type": "code",
   "execution_count": null,
   "metadata": {},
   "outputs": [],
   "source": []
  }
 ],
 "metadata": {
  "kernelspec": {
   "display_name": "Python 3",
   "language": "python",
   "name": "python3"
  },
  "language_info": {
   "codemirror_mode": {
    "name": "ipython",
    "version": 3
   },
   "file_extension": ".py",
   "mimetype": "text/x-python",
   "name": "python",
   "nbconvert_exporter": "python",
   "pygments_lexer": "ipython3",
   "version": "3.6.5"
  }
 },
 "nbformat": 4,
 "nbformat_minor": 2
}
